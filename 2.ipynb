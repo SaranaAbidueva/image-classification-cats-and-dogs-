{
 "cells": [
  {
   "cell_type": "code",
   "execution_count": 1,
   "metadata": {},
   "outputs": [],
   "source": [
    "import numpy as np\n",
    "import pandas as pd \n",
    "from keras.utils import to_categorical\n",
    "from sklearn.model_selection import train_test_split\n",
    "from keras.preprocessing.image import ImageDataGenerator, load_img\n",
    "import matplotlib.pyplot as plt"
   ]
  },
  {
   "cell_type": "markdown",
   "metadata": {},
   "source": [
    "# Загрузка и просмотр данных"
   ]
  },
  {
   "cell_type": "code",
   "execution_count": 2,
   "metadata": {},
   "outputs": [],
   "source": [
    "import os #чтение файлов и структуры директорий"
   ]
  },
  {
   "cell_type": "code",
   "execution_count": 3,
   "metadata": {},
   "outputs": [],
   "source": [
    "images = os.listdir(\"train/train\")\n",
    "categories = []\n",
    "for image in images:\n",
    "    category = image.split('.')[0]\n",
    "    if category == 'dog':\n",
    "        categories.append(1)\n",
    "    else:\n",
    "        categories.append(0)\n",
    "\n",
    "df = pd.DataFrame({\n",
    "    'filename': images,\n",
    "    'category': categories\n",
    "})\n"
   ]
  },
  {
   "cell_type": "markdown",
   "metadata": {},
   "source": [
    "# Предобработка данных\n",
    "произведем нормализацию;\n",
    "заменила название категорий на cat и dog так как у генератора class_mode=\"categorical\"\n",
    "\n",
    "разбила размеченные данные на тренировочное и валидационные множества, добавила индексы"
   ]
  },
  {
   "cell_type": "code",
   "execution_count": 4,
   "metadata": {},
   "outputs": [],
   "source": [
    "df[\"category\"] = df[\"category\"].replace({0: 'cat', 1: 'dog'})\n",
    "train_df, validate_df = train_test_split(df, test_size=0.2, random_state=42)\n",
    "train_df = train_df.reset_index(drop=True)\n",
    "validate_df = validate_df.reset_index(drop=True)"
   ]
  },
  {
   "cell_type": "code",
   "execution_count": 5,
   "metadata": {},
   "outputs": [],
   "source": [
    "from keras.models import Sequential\n",
    "from keras.layers import Conv2D, MaxPooling2D, Dropout, Flatten, Dense, Activation, BatchNormalization\n",
    "\n",
    "batch_size = 15 # количество тренировочных изображений для обработки перед обновлением параметров модели\n",
    "IMAGE_SIZE = (96, 96)\n",
    "total_train = train_df.shape[0]\n",
    "total_validate = validate_df.shape[0]\n",
    "FAST_RUN = False"
   ]
  },
  {
   "cell_type": "code",
   "execution_count": 6,
   "metadata": {},
   "outputs": [
    {
     "name": "stdout",
     "output_type": "stream",
     "text": [
      "Found 20000 validated image filenames belonging to 2 classes.\n"
     ]
    }
   ],
   "source": [
    "train_datagen = ImageDataGenerator(\n",
    "    rotation_range=15,\n",
    "    rescale=1./255,\n",
    "    shear_range=0.1,\n",
    "    zoom_range=0.2,\n",
    "    horizontal_flip=True,\n",
    "    width_shift_range=0.1,\n",
    "    height_shift_range=0.1\n",
    ")\n",
    "\n",
    "train_generator = train_datagen.flow_from_dataframe(\n",
    "    train_df, \n",
    "    directory=\"train/train/\", \n",
    "    x_col='filename',\n",
    "    y_col='category',\n",
    "    target_size=IMAGE_SIZE,\n",
    "    class_mode='categorical',\n",
    "    batch_size=batch_size\n",
    ")"
   ]
  },
  {
   "cell_type": "code",
   "execution_count": 7,
   "metadata": {},
   "outputs": [
    {
     "name": "stdout",
     "output_type": "stream",
     "text": [
      "Found 5000 validated image filenames belonging to 2 classes.\n"
     ]
    }
   ],
   "source": [
    "validation_datagen = ImageDataGenerator(rescale=1./255)\n",
    "validation_generator = validation_datagen.flow_from_dataframe(\n",
    "    validate_df, \n",
    "    \"train/train/\", \n",
    "    x_col='filename',\n",
    "    y_col='category',\n",
    "    target_size=IMAGE_SIZE,\n",
    "    class_mode='categorical',\n",
    "    batch_size=batch_size\n",
    ")"
   ]
  },
  {
   "cell_type": "code",
   "execution_count": 8,
   "metadata": {},
   "outputs": [
    {
     "name": "stdout",
     "output_type": "stream",
     "text": [
      "Found 1 validated image filenames belonging to 1 classes.\n"
     ]
    }
   ],
   "source": [
    "example_df = train_df.sample(n=1).reset_index(drop=True)\n",
    "example_generator = train_datagen.flow_from_dataframe(\n",
    "    example_df, \n",
    "    \"train/train/\", \n",
    "    x_col='filename',\n",
    "    y_col='category',\n",
    "    target_size=IMAGE_SIZE,\n",
    "    class_mode='categorical'\n",
    ")"
   ]
  },
  {
   "cell_type": "markdown",
   "metadata": {},
   "source": [
    "# Построение модели"
   ]
  },
  {
   "cell_type": "code",
   "execution_count": 9,
   "metadata": {},
   "outputs": [
    {
     "name": "stdout",
     "output_type": "stream",
     "text": [
      "Model: \"sequential\"\n",
      "_________________________________________________________________\n",
      "Layer (type)                 Output Shape              Param #   \n",
      "=================================================================\n",
      "conv2d (Conv2D)              (None, 94, 94, 32)        896       \n",
      "_________________________________________________________________\n",
      "conv2d_1 (Conv2D)            (None, 92, 92, 32)        9248      \n",
      "_________________________________________________________________\n",
      "max_pooling2d (MaxPooling2D) (None, 46, 46, 32)        0         \n",
      "_________________________________________________________________\n",
      "dropout (Dropout)            (None, 46, 46, 32)        0         \n",
      "_________________________________________________________________\n",
      "conv2d_2 (Conv2D)            (None, 44, 44, 64)        18496     \n",
      "_________________________________________________________________\n",
      "conv2d_3 (Conv2D)            (None, 42, 42, 64)        36928     \n",
      "_________________________________________________________________\n",
      "max_pooling2d_1 (MaxPooling2 (None, 21, 21, 64)        0         \n",
      "_________________________________________________________________\n",
      "dropout_1 (Dropout)          (None, 21, 21, 64)        0         \n",
      "_________________________________________________________________\n",
      "flatten (Flatten)            (None, 28224)             0         \n",
      "_________________________________________________________________\n",
      "dense (Dense)                (None, 512)               14451200  \n",
      "_________________________________________________________________\n",
      "dropout_2 (Dropout)          (None, 512)               0         \n",
      "_________________________________________________________________\n",
      "dense_1 (Dense)              (None, 2)                 1026      \n",
      "=================================================================\n",
      "Total params: 14,517,794\n",
      "Trainable params: 14,517,794\n",
      "Non-trainable params: 0\n",
      "_________________________________________________________________\n"
     ]
    }
   ],
   "source": [
    "model = Sequential()\n",
    "\n",
    "model.add(Conv2D(32, (3, 3), activation='relu', input_shape=(IMAGE_SIZE[0], IMAGE_SIZE[1],3)))\n",
    "model.add(Conv2D(32, (3, 3), activation='relu'))\n",
    "model.add(MaxPooling2D(pool_size=(2, 2)))\n",
    "model.add(Dropout(0.25))\n",
    "\n",
    "model.add(Conv2D(64, (3, 3), activation='relu'))\n",
    "model.add(Conv2D(64, (3, 3), activation='relu'))\n",
    "model.add(MaxPooling2D(pool_size=(2, 2)))\n",
    "model.add(Dropout(0.25))\n",
    "\n",
    "model.add(Flatten())\n",
    "model.add(Dense(512, activation='relu'))\n",
    "model.add(Dropout(0.5))\n",
    "model.add(Dense(2, activation='softmax')) # 2 - 2 класса\n",
    "\n",
    "model.compile(loss='categorical_crossentropy', optimizer='rmsprop', metrics=['accuracy'])\n",
    "\n",
    "model.summary()"
   ]
  },
  {
   "cell_type": "code",
   "execution_count": 10,
   "metadata": {},
   "outputs": [],
   "source": [
    "from keras.callbacks import EarlyStopping, ReduceLROnPlateau\n",
    "earlystop = EarlyStopping(patience=7)\n",
    "learning_rate_reduction = ReduceLROnPlateau(monitor='val_accuracy', \n",
    "                                            patience=2, \n",
    "                                            verbose=1, \n",
    "                                            factor=0.5, \n",
    "                                            min_lr=0.00001)\n",
    "callbacks = [earlystop, learning_rate_reduction]"
   ]
  },
  {
   "cell_type": "markdown",
   "metadata": {},
   "source": [
    "# Обучение модели"
   ]
  },
  {
   "cell_type": "code",
   "execution_count": 11,
   "metadata": {},
   "outputs": [
    {
     "name": "stdout",
     "output_type": "stream",
     "text": [
      "WARNING:tensorflow:From <ipython-input-11-9f01d695ce4a>:2: Model.fit_generator (from tensorflow.python.keras.engine.training) is deprecated and will be removed in a future version.\n",
      "Instructions for updating:\n",
      "Please use Model.fit, which supports generators.\n",
      "Epoch 1/100\n",
      "1333/1333 [==============================] - 800s 600ms/step - loss: 0.6708 - accuracy: 0.6136 - val_loss: 0.6020 - val_accuracy: 0.7045\n",
      "Epoch 2/100\n",
      "1333/1333 [==============================] - 892s 669ms/step - loss: 0.6002 - accuracy: 0.6831 - val_loss: 0.5155 - val_accuracy: 0.7481\n",
      "Epoch 3/100\n",
      "1333/1333 [==============================] - 1065s 799ms/step - loss: 0.5696 - accuracy: 0.7220 - val_loss: 0.5013 - val_accuracy: 0.7578\n",
      "Epoch 4/100\n",
      "1333/1333 [==============================] - 1097s 823ms/step - loss: 0.5455 - accuracy: 0.7333 - val_loss: 0.5052 - val_accuracy: 0.7562\n",
      "Epoch 5/100\n",
      "1333/1333 [==============================] - 1052s 790ms/step - loss: 0.5331 - accuracy: 0.7472 - val_loss: 0.4796 - val_accuracy: 0.7844\n",
      "Epoch 6/100\n",
      "1333/1333 [==============================] - 1043s 783ms/step - loss: 0.5273 - accuracy: 0.7574 - val_loss: 0.4496 - val_accuracy: 0.7968\n",
      "Epoch 7/100\n",
      "1333/1333 [==============================] - 880s 660ms/step - loss: 0.5244 - accuracy: 0.7589 - val_loss: 0.5027 - val_accuracy: 0.7776\n",
      "Epoch 8/100\n",
      "1333/1333 [==============================] - ETA: 0s - loss: 0.5178 - accuracy: 0.7597\n",
      "Epoch 00008: ReduceLROnPlateau reducing learning rate to 0.0005000000237487257.\n",
      "1333/1333 [==============================] - 855s 641ms/step - loss: 0.5178 - accuracy: 0.7597 - val_loss: 0.5426 - val_accuracy: 0.7824\n",
      "Epoch 9/100\n",
      "1333/1333 [==============================] - 864s 648ms/step - loss: 0.4569 - accuracy: 0.7983 - val_loss: 0.4356 - val_accuracy: 0.8210\n",
      "Epoch 10/100\n",
      "1333/1333 [==============================] - 841s 631ms/step - loss: 0.4473 - accuracy: 0.8055 - val_loss: 0.3792 - val_accuracy: 0.8334\n",
      "Epoch 11/100\n",
      "1333/1333 [==============================] - 800s 600ms/step - loss: 0.4443 - accuracy: 0.8039 - val_loss: 0.4150 - val_accuracy: 0.8208\n",
      "Epoch 12/100\n",
      "1333/1333 [==============================] - ETA: 0s - loss: 0.4485 - accuracy: 0.8016\n",
      "Epoch 00012: ReduceLROnPlateau reducing learning rate to 0.0002500000118743628.\n",
      "1333/1333 [==============================] - 804s 603ms/step - loss: 0.4485 - accuracy: 0.8016 - val_loss: 0.4149 - val_accuracy: 0.8240\n",
      "Epoch 13/100\n",
      "1333/1333 [==============================] - 800s 600ms/step - loss: 0.4053 - accuracy: 0.8249 - val_loss: 0.3363 - val_accuracy: 0.8549\n",
      "Epoch 14/100\n",
      "1333/1333 [==============================] - 792s 594ms/step - loss: 0.3989 - accuracy: 0.8282 - val_loss: 0.3641 - val_accuracy: 0.8434\n",
      "Epoch 15/100\n",
      "1333/1333 [==============================] - ETA: 0s - loss: 0.3959 - accuracy: 0.8301\n",
      "Epoch 00015: ReduceLROnPlateau reducing learning rate to 0.0001250000059371814.\n",
      "1333/1333 [==============================] - 796s 597ms/step - loss: 0.3959 - accuracy: 0.8301 - val_loss: 0.3650 - val_accuracy: 0.8348\n",
      "Epoch 16/100\n",
      "1333/1333 [==============================] - 797s 598ms/step - loss: 0.3704 - accuracy: 0.8399 - val_loss: 0.3272 - val_accuracy: 0.8571\n",
      "Epoch 17/100\n",
      "1333/1333 [==============================] - 799s 600ms/step - loss: 0.3664 - accuracy: 0.8437 - val_loss: 0.3179 - val_accuracy: 0.8633\n",
      "Epoch 18/100\n",
      "1333/1333 [==============================] - 802s 601ms/step - loss: 0.3606 - accuracy: 0.8418 - val_loss: 0.3195 - val_accuracy: 0.8607\n",
      "Epoch 19/100\n",
      "1333/1333 [==============================] - ETA: 0s - loss: 0.3581 - accuracy: 0.8460\n",
      "Epoch 00019: ReduceLROnPlateau reducing learning rate to 6.25000029685907e-05.\n",
      "1333/1333 [==============================] - 802s 602ms/step - loss: 0.3581 - accuracy: 0.8460 - val_loss: 0.3223 - val_accuracy: 0.8621\n",
      "Epoch 20/100\n",
      "1333/1333 [==============================] - 797s 598ms/step - loss: 0.3437 - accuracy: 0.8512 - val_loss: 0.3105 - val_accuracy: 0.8693\n",
      "Epoch 21/100\n",
      "1333/1333 [==============================] - 798s 598ms/step - loss: 0.3469 - accuracy: 0.8484 - val_loss: 0.3111 - val_accuracy: 0.8615\n",
      "Epoch 22/100\n",
      "1333/1333 [==============================] - ETA: 0s - loss: 0.3440 - accuracy: 0.8526\n",
      "Epoch 00022: ReduceLROnPlateau reducing learning rate to 3.125000148429535e-05.\n",
      "1333/1333 [==============================] - 798s 599ms/step - loss: 0.3440 - accuracy: 0.8526 - val_loss: 0.3193 - val_accuracy: 0.8631\n",
      "Epoch 23/100\n",
      "1333/1333 [==============================] - 800s 600ms/step - loss: 0.3347 - accuracy: 0.8546 - val_loss: 0.2989 - val_accuracy: 0.8793\n",
      "Epoch 24/100\n",
      "1333/1333 [==============================] - 797s 598ms/step - loss: 0.3330 - accuracy: 0.8562 - val_loss: 0.2970 - val_accuracy: 0.8815\n",
      "Epoch 25/100\n",
      "1333/1333 [==============================] - 796s 597ms/step - loss: 0.3344 - accuracy: 0.8559 - val_loss: 0.2894 - val_accuracy: 0.8815\n",
      "Epoch 26/100\n",
      "1333/1333 [==============================] - ETA: 0s - loss: 0.3296 - accuracy: 0.8586\n",
      "Epoch 00026: ReduceLROnPlateau reducing learning rate to 1.5625000742147677e-05.\n",
      "1333/1333 [==============================] - 798s 599ms/step - loss: 0.3296 - accuracy: 0.8586 - val_loss: 0.2947 - val_accuracy: 0.8809\n",
      "Epoch 27/100\n",
      "1333/1333 [==============================] - 797s 598ms/step - loss: 0.3230 - accuracy: 0.8621 - val_loss: 0.2941 - val_accuracy: 0.8817\n",
      "Epoch 28/100\n",
      "1333/1333 [==============================] - 794s 596ms/step - loss: 0.3258 - accuracy: 0.8594 - val_loss: 0.2942 - val_accuracy: 0.8805\n",
      "Epoch 29/100\n",
      "1333/1333 [==============================] - ETA: 0s - loss: 0.3267 - accuracy: 0.8613\n",
      "Epoch 00029: ReduceLROnPlateau reducing learning rate to 1e-05.\n",
      "1333/1333 [==============================] - 797s 598ms/step - loss: 0.3267 - accuracy: 0.8613 - val_loss: 0.2915 - val_accuracy: 0.8801\n",
      "Epoch 30/100\n",
      "1333/1333 [==============================] - 793s 595ms/step - loss: 0.3245 - accuracy: 0.8607 - val_loss: 0.2916 - val_accuracy: 0.8813\n",
      "Epoch 31/100\n",
      "1333/1333 [==============================] - 796s 597ms/step - loss: 0.3234 - accuracy: 0.8610 - val_loss: 0.2936 - val_accuracy: 0.8777\n",
      "Epoch 32/100\n",
      "1333/1333 [==============================] - 795s 596ms/step - loss: 0.3244 - accuracy: 0.8612 - val_loss: 0.2916 - val_accuracy: 0.8779\n"
     ]
    }
   ],
   "source": [
    "epochs=3 if FAST_RUN else 100\n",
    "history = model.fit_generator(\n",
    "    train_generator, \n",
    "    epochs=epochs,\n",
    "    validation_data=validation_generator,\n",
    "    validation_steps=total_validate//batch_size,\n",
    "    steps_per_epoch=total_train//batch_size,\n",
    "    callbacks=callbacks\n",
    ")"
   ]
  },
  {
   "cell_type": "code",
   "execution_count": 18,
   "metadata": {},
   "outputs": [],
   "source": [
    "model.save_weights(\"easy2_model.h5\")"
   ]
  },
  {
   "cell_type": "code",
   "execution_count": 17,
   "metadata": {},
   "outputs": [
    {
     "data": {
      "image/png": "[encoded data removed]",
      "text/plain": [
       "<Figure size 864x864 with 2 Axes>"
      ]
     },
     "metadata": {
      "needs_background": "light"
     },
     "output_type": "display_data"
    }
   ],
   "source": [
    "fig, (ax1, ax2) = plt.subplots(2, 1, figsize=(12, 12))\n",
    "ax2.plot(history.history['loss'], color='b', label=\"Training loss\")\n",
    "ax2.plot(history.history['val_loss'], color='r', label=\"validation loss\")\n",
    "ax2.set_xticks(np.arange(1, 32))\n",
    "ax2.set_yticks(np.arange(0, 1, 0.1))\n",
    "\n",
    "ax1.plot(history.history['accuracy'], color='b', label=\"Training accuracy\")\n",
    "ax1.plot(history.history['val_accuracy'], color='r',label=\"Validation accuracy\")\n",
    "ax1.set_xticks(np.arange(1, 32))\n",
    "\n",
    "legend = plt.legend(loc='best', shadow=True)\n",
    "plt.tight_layout()\n",
    "plt.show()"
   ]
  },
  {
   "cell_type": "code",
   "execution_count": null,
   "metadata": {},
   "outputs": [],
   "source": []
  },
  {
   "cell_type": "code",
   "execution_count": null,
   "metadata": {},
   "outputs": [],
   "source": []
  }
 ],
 "metadata": {
  "kernelspec": {
   "display_name": "Python 3",
   "language": "python",
   "name": "python3"
  },
  "language_info": {
   "codemirror_mode": {
    "name": "ipython",
    "version": 3
   },
   "file_extension": ".py",
   "mimetype": "text/x-python",
   "name": "python",
   "nbconvert_exporter": "python",
   "pygments_lexer": "ipython3",
   "version": "3.8.3"
  }
 },
 "nbformat": 4,
 "nbformat_minor": 4
}
