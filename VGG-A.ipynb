{
 "cells": [
  {
   "cell_type": "code",
   "execution_count": 1,
   "metadata": {
    "executionInfo": {
     "elapsed": 3784,
     "status": "ok",
     "timestamp": 1607944036354,
     "user": {
      "displayName": "Сарана Абидуева",
      "photoUrl": "https://lh3.googleusercontent.com/a-/AOh14GiHZo6HOBigQjgllr-5G8U3xNYjR8t1gvtxGRPytA=s64",
      "userId": "15332124214443434142"
     },
     "user_tz": -180
    },
    "id": "oR8knUD23Uyc"
   },
   "outputs": [],
   "source": [
    "import tensorflow as tf\n",
    "import numpy as np\n",
    "import pandas as pd \n",
    "from keras.utils import to_categorical\n",
    "from sklearn.model_selection import train_test_split\n",
    "from keras.preprocessing.image import ImageDataGenerator, load_img\n",
    "import matplotlib.pyplot as plt"
   ]
  },
  {
   "cell_type": "markdown",
   "metadata": {
    "id": "63Mc6zch3UzB"
   },
   "source": [
    "# Загрузка и просмотр данных"
   ]
  },
  {
   "cell_type": "code",
   "execution_count": 2,
   "metadata": {
    "executionInfo": {
     "elapsed": 3718,
     "status": "ok",
     "timestamp": 1607944036357,
     "user": {
      "displayName": "Сарана Абидуева",
      "photoUrl": "https://lh3.googleusercontent.com/a-/AOh14GiHZo6HOBigQjgllr-5G8U3xNYjR8t1gvtxGRPytA=s64",
      "userId": "15332124214443434142"
     },
     "user_tz": -180
    },
    "id": "SuX1HJc03UzL"
   },
   "outputs": [],
   "source": [
    "import os #чтение файлов и структуры директорий"
   ]
  },
  {
   "cell_type": "code",
   "execution_count": 3,
   "metadata": {
    "colab": {
     "base_uri": "https://localhost:8080/",
     "height": 229
    },
    "executionInfo": {
     "elapsed": 3688,
     "status": "error",
     "timestamp": 1607944036459,
     "user": {
      "displayName": "Сарана Абидуева",
      "photoUrl": "https://lh3.googleusercontent.com/a-/AOh14GiHZo6HOBigQjgllr-5G8U3xNYjR8t1gvtxGRPytA=s64",
      "userId": "15332124214443434142"
     },
     "user_tz": -180
    },
    "id": "2B79uHxp3UzN",
    "outputId": "05812f4a-e6ed-4482-aa7c-908322361d13"
   },
   "outputs": [
    {
     "ename": "FileNotFoundError",
     "evalue": "ignored",
     "output_type": "error",
     "traceback": [
      "\u001b[0;31m---------------------------------------------------------------------------\u001b[0m",
      "\u001b[0;31mFileNotFoundError\u001b[0m                         Traceback (most recent call last)",
      "\u001b[0;32m<ipython-input-3-941abf556599>\u001b[0m in \u001b[0;36m<module>\u001b[0;34m()\u001b[0m\n\u001b[0;32m----> 1\u001b[0;31m \u001b[0mimages\u001b[0m \u001b[0;34m=\u001b[0m \u001b[0mos\u001b[0m\u001b[0;34m.\u001b[0m\u001b[0mlistdir\u001b[0m\u001b[0;34m(\u001b[0m\u001b[0;34m\"train/train\"\u001b[0m\u001b[0;34m)\u001b[0m\u001b[0;34m\u001b[0m\u001b[0;34m\u001b[0m\u001b[0m\n\u001b[0m\u001b[1;32m      2\u001b[0m \u001b[0mcategories\u001b[0m \u001b[0;34m=\u001b[0m \u001b[0;34m[\u001b[0m\u001b[0;34m]\u001b[0m\u001b[0;34m\u001b[0m\u001b[0;34m\u001b[0m\u001b[0m\n\u001b[1;32m      3\u001b[0m \u001b[0;32mfor\u001b[0m \u001b[0mimage\u001b[0m \u001b[0;32min\u001b[0m \u001b[0mimages\u001b[0m\u001b[0;34m:\u001b[0m\u001b[0;34m\u001b[0m\u001b[0;34m\u001b[0m\u001b[0m\n\u001b[1;32m      4\u001b[0m     \u001b[0mcategory\u001b[0m \u001b[0;34m=\u001b[0m \u001b[0mimage\u001b[0m\u001b[0;34m.\u001b[0m\u001b[0msplit\u001b[0m\u001b[0;34m(\u001b[0m\u001b[0;34m'.'\u001b[0m\u001b[0;34m)\u001b[0m\u001b[0;34m[\u001b[0m\u001b[0;36m0\u001b[0m\u001b[0;34m]\u001b[0m\u001b[0;34m\u001b[0m\u001b[0;34m\u001b[0m\u001b[0m\n\u001b[1;32m      5\u001b[0m     \u001b[0;32mif\u001b[0m \u001b[0mcategory\u001b[0m \u001b[0;34m==\u001b[0m \u001b[0;34m'dog'\u001b[0m\u001b[0;34m:\u001b[0m\u001b[0;34m\u001b[0m\u001b[0;34m\u001b[0m\u001b[0m\n",
      "\u001b[0;31mFileNotFoundError\u001b[0m: [Errno 2] No such file or directory: 'train/train'"
     ]
    }
   ],
   "source": [
    "images = os.listdir(\"train/train\")\n",
    "categories = []\n",
    "for image in images:\n",
    "    category = image.split('.')[0]\n",
    "    if category == 'dog':\n",
    "        categories.append(1)\n",
    "    else:\n",
    "        categories.append(0)\n",
    "\n",
    "df = pd.DataFrame({\n",
    "    'filename': images,\n",
    "    'category': categories\n",
    "})\n"
   ]
  },
  {
   "cell_type": "markdown",
   "metadata": {
    "id": "2ULMylPY3UzQ"
   },
   "source": [
    "# Предобработка данных\n",
    "произведем нормализацию;\n",
    "заменила название категорий на cat и dog так как у генератора class_mode=\"categorical\"\n",
    "\n",
    "разбила размеченные данные на тренировочное и валидационные множества, добавила индексы"
   ]
  },
  {
   "cell_type": "code",
   "execution_count": null,
   "metadata": {
    "executionInfo": {
     "elapsed": 3516,
     "status": "aborted",
     "timestamp": 1607944036359,
     "user": {
      "displayName": "Сарана Абидуева",
      "photoUrl": "https://lh3.googleusercontent.com/a-/AOh14GiHZo6HOBigQjgllr-5G8U3xNYjR8t1gvtxGRPytA=s64",
      "userId": "15332124214443434142"
     },
     "user_tz": -180
    },
    "id": "n5IxtFCr3Uzx"
   },
   "outputs": [],
   "source": [
    "df[\"category\"] = df[\"category\"].replace({0: 'cat', 1: 'dog'})\n",
    "train_df, validate_df = train_test_split(df, test_size=0.2, random_state=42)\n",
    "train_df = train_df.reset_index(drop=True)\n",
    "validate_df = validate_df.reset_index(drop=True)"
   ]
  },
  {
   "cell_type": "code",
   "execution_count": null,
   "metadata": {
    "executionInfo": {
     "elapsed": 3468,
     "status": "aborted",
     "timestamp": 1607944036362,
     "user": {
      "displayName": "Сарана Абидуева",
      "photoUrl": "https://lh3.googleusercontent.com/a-/AOh14GiHZo6HOBigQjgllr-5G8U3xNYjR8t1gvtxGRPytA=s64",
      "userId": "15332124214443434142"
     },
     "user_tz": -180
    },
    "id": "0r7n_Nxz3Uzz"
   },
   "outputs": [],
   "source": [
    "from keras.models import Sequential\n",
    "from keras.layers import Conv2D, MaxPooling2D, Dropout, Flatten, Dense, Activation, BatchNormalization\n",
    "\n",
    "batch_size = 15 # количество тренировочных изображений для обработки перед обновлением параметров модели\n",
    "IMAGE_SIZE = (224, 224)\n",
    "total_train = train_df.shape[0]\n",
    "total_validate = validate_df.shape[0]\n",
    "FAST_RUN = False"
   ]
  },
  {
   "cell_type": "code",
   "execution_count": null,
   "metadata": {
    "executionInfo": {
     "elapsed": 3383,
     "status": "aborted",
     "timestamp": 1607944036364,
     "user": {
      "displayName": "Сарана Абидуева",
      "photoUrl": "https://lh3.googleusercontent.com/a-/AOh14GiHZo6HOBigQjgllr-5G8U3xNYjR8t1gvtxGRPytA=s64",
      "userId": "15332124214443434142"
     },
     "user_tz": -180
    },
    "id": "CVvInMOx3Uz1"
   },
   "outputs": [],
   "source": [
    "train_datagen = ImageDataGenerator(\n",
    "    rotation_range=15,\n",
    "    rescale=1./255,\n",
    "    shear_range=0.1,\n",
    "    zoom_range=0.2,\n",
    "    horizontal_flip=True,\n",
    "    width_shift_range=0.1,\n",
    "    height_shift_range=0.1\n",
    ")\n",
    "\n",
    "train_generator = train_datagen.flow_from_dataframe(\n",
    "    train_df, \n",
    "    directory=\"train/train/\", \n",
    "    x_col='filename',\n",
    "    y_col='category',\n",
    "    target_size=IMAGE_SIZE,\n",
    "    class_mode='categorical',\n",
    "    batch_size=batch_size\n",
    ")"
   ]
  },
  {
   "cell_type": "code",
   "execution_count": null,
   "metadata": {
    "executionInfo": {
     "elapsed": 3349,
     "status": "aborted",
     "timestamp": 1607944036365,
     "user": {
      "displayName": "Сарана Абидуева",
      "photoUrl": "https://lh3.googleusercontent.com/a-/AOh14GiHZo6HOBigQjgllr-5G8U3xNYjR8t1gvtxGRPytA=s64",
      "userId": "15332124214443434142"
     },
     "user_tz": -180
    },
    "id": "YIUjkR7s3Uz3"
   },
   "outputs": [],
   "source": [
    "validation_datagen = ImageDataGenerator(rescale=1./255)\n",
    "validation_generator = validation_datagen.flow_from_dataframe(\n",
    "    validate_df, \n",
    "    \"train/train/\", \n",
    "    x_col='filename',\n",
    "    y_col='category',\n",
    "    target_size=IMAGE_SIZE,\n",
    "    class_mode='categorical',\n",
    "    batch_size=batch_size\n",
    ")"
   ]
  },
  {
   "cell_type": "code",
   "execution_count": null,
   "metadata": {
    "executionInfo": {
     "elapsed": 3344,
     "status": "aborted",
     "timestamp": 1607944036406,
     "user": {
      "displayName": "Сарана Абидуева",
      "photoUrl": "https://lh3.googleusercontent.com/a-/AOh14GiHZo6HOBigQjgllr-5G8U3xNYjR8t1gvtxGRPytA=s64",
      "userId": "15332124214443434142"
     },
     "user_tz": -180
    },
    "id": "gJhuIiHs3Uz8"
   },
   "outputs": [],
   "source": [
    "example_df = train_df.sample(n=1).reset_index(drop=True)\n",
    "example_generator = train_datagen.flow_from_dataframe(\n",
    "    example_df, \n",
    "    \"train/train/\", \n",
    "    x_col='filename',\n",
    "    y_col='category',\n",
    "    target_size=IMAGE_SIZE,\n",
    "    class_mode='categorical'\n",
    ")"
   ]
  },
  {
   "cell_type": "markdown",
   "metadata": {
    "id": "miKuALW73Uz-"
   },
   "source": [
    "# Построение модели"
   ]
  },
  {
   "cell_type": "code",
   "execution_count": null,
   "metadata": {
    "executionInfo": {
     "elapsed": 3268,
     "status": "aborted",
     "timestamp": 1607944036409,
     "user": {
      "displayName": "Сарана Абидуева",
      "photoUrl": "https://lh3.googleusercontent.com/a-/AOh14GiHZo6HOBigQjgllr-5G8U3xNYjR8t1gvtxGRPytA=s64",
      "userId": "15332124214443434142"
     },
     "user_tz": -180
    },
    "id": "41pF5cx93Uz_"
   },
   "outputs": [],
   "source": [
    "model = Sequential()\n",
    "\n",
    "model.add(Conv2D(64, (3, 3), activation='relu', input_shape=(IMAGE_SIZE[0], IMAGE_SIZE[1],3)))\n",
    "model.add(MaxPooling2D(pool_size=(2, 2)))\n",
    "model.add(Dropout(0.25))\n",
    "\n",
    "model.add(Conv2D(128, (3, 3), activation='relu'))\n",
    "model.add(MaxPooling2D(pool_size=(2, 2)))\n",
    "\n",
    "model.add(Conv2D(256, (3, 3), activation='relu'))\n",
    "model.add(Conv2D(256, (3, 3), activation='relu'))\n",
    "model.add(MaxPooling2D(pool_size=(2, 2)))\n",
    "\n",
    "model.add(Conv2D(512, (3, 3), activation='relu'))\n",
    "model.add(Conv2D(512, (3, 3), activation='relu'))\n",
    "model.add(MaxPooling2D(pool_size=(2, 2)))\n",
    "\n",
    "model.add(Flatten())\n",
    "model.add(Dense(4096, activation='relu'))\n",
    "model.add(Dense(2, activation='softmax')) # 2 - 2 класса\n",
    "\n",
    "model.compile(loss='categorical_crossentropy', optimizer='rmsprop', metrics=['accuracy'])\n",
    "\n",
    "model.summary()"
   ]
  },
  {
   "cell_type": "code",
   "execution_count": null,
   "metadata": {
    "executionInfo": {
     "elapsed": 3287,
     "status": "aborted",
     "timestamp": 1607944036434,
     "user": {
      "displayName": "Сарана Абидуева",
      "photoUrl": "https://lh3.googleusercontent.com/a-/AOh14GiHZo6HOBigQjgllr-5G8U3xNYjR8t1gvtxGRPytA=s64",
      "userId": "15332124214443434142"
     },
     "user_tz": -180
    },
    "id": "nu8rLU-m3U0A"
   },
   "outputs": [],
   "source": [
    "from keras.callbacks import EarlyStopping, ReduceLROnPlateau\n",
    "earlystop = EarlyStopping(patience=7)\n",
    "learning_rate_reduction = ReduceLROnPlateau(monitor='val_accuracy', \n",
    "                                            patience=2, \n",
    "                                            verbose=1, \n",
    "                                            factor=0.5, \n",
    "                                            min_lr=0.00001)\n",
    "callbacks = [earlystop, learning_rate_reduction]"
   ]
  },
  {
   "cell_type": "markdown",
   "metadata": {
    "id": "p6Kv6mGc3U0B"
   },
   "source": [
    "# Обучение модели"
   ]
  },
  {
   "cell_type": "code",
   "execution_count": null,
   "metadata": {
    "executionInfo": {
     "elapsed": 3261,
     "status": "aborted",
     "timestamp": 1607944036435,
     "user": {
      "displayName": "Сарана Абидуева",
      "photoUrl": "https://lh3.googleusercontent.com/a-/AOh14GiHZo6HOBigQjgllr-5G8U3xNYjR8t1gvtxGRPytA=s64",
      "userId": "15332124214443434142"
     },
     "user_tz": -180
    },
    "id": "wOpAMxpj3U0C"
   },
   "outputs": [],
   "source": [
    "epochs=3 if FAST_RUN else 100\n",
    "with tf.device('/device:GPU:0'):\n",
    "  history = model.fit_generator(\n",
    "      train_generator, \n",
    "      epochs=epochs,\n",
    "      validation_data=validation_generator,\n",
    "      validation_steps=total_validate//batch_size,\n",
    "      steps_per_epoch=total_train//batch_size,\n",
    "      callbacks=callbacks\n",
    "  )"
   ]
  },
  {
   "cell_type": "code",
   "execution_count": null,
   "metadata": {
    "executionInfo": {
     "elapsed": 3257,
     "status": "aborted",
     "timestamp": 1607944036436,
     "user": {
      "displayName": "Сарана Абидуева",
      "photoUrl": "https://lh3.googleusercontent.com/a-/AOh14GiHZo6HOBigQjgllr-5G8U3xNYjR8t1gvtxGRPytA=s64",
      "userId": "15332124214443434142"
     },
     "user_tz": -180
    },
    "id": "-VACOMX53U0D"
   },
   "outputs": [],
   "source": [
    "model.save_weights(\"vgga_model.h5\")"
   ]
  },
  {
   "cell_type": "code",
   "execution_count": null,
   "metadata": {
    "executionInfo": {
     "elapsed": 3154,
     "status": "aborted",
     "timestamp": 1607944036437,
     "user": {
      "displayName": "Сарана Абидуева",
      "photoUrl": "https://lh3.googleusercontent.com/a-/AOh14GiHZo6HOBigQjgllr-5G8U3xNYjR8t1gvtxGRPytA=s64",
      "userId": "15332124214443434142"
     },
     "user_tz": -180
    },
    "id": "M-C6-G4_3U0F"
   },
   "outputs": [],
   "source": [
    "fig, (ax1, ax2) = plt.subplots(2, 1, figsize=(12, 12))\n",
    "ax1.plot(history.history['loss'], color='b', label=\"Training loss\")\n",
    "ax1.plot(history.history['val_loss'], color='r', label=\"validation loss\")\n",
    "ax1.set_xticks(np.arange(1, 20))\n",
    "ax1.set_yticks(np.arange(0, 1, 0.1))\n",
    "\n",
    "ax2.plot(history.history['accuracy'], color='b', label=\"Training accuracy\")\n",
    "ax2.plot(history.history['val_accuracy'], color='r',label=\"Validation accuracy\")\n",
    "ax2.set_xticks(np.arange(1, 20))\n",
    "\n",
    "legend = plt.legend(loc='best', shadow=True)\n",
    "plt.tight_layout()\n",
    "plt.show()"
   ]
  },
  {
   "cell_type": "code",
   "execution_count": null,
   "metadata": {
    "executionInfo": {
     "elapsed": 3150,
     "status": "aborted",
     "timestamp": 1607944036446,
     "user": {
      "displayName": "Сарана Абидуева",
      "photoUrl": "https://lh3.googleusercontent.com/a-/AOh14GiHZo6HOBigQjgllr-5G8U3xNYjR8t1gvtxGRPytA=s64",
      "userId": "15332124214443434142"
     },
     "user_tz": -180
    },
    "id": "ieZ8QJUG3U0H"
   },
   "outputs": [],
   "source": [
    ""
   ]
  },
  {
   "cell_type": "code",
   "execution_count": null,
   "metadata": {
    "executionInfo": {
     "elapsed": 3130,
     "status": "aborted",
     "timestamp": 1607944036451,
     "user": {
      "displayName": "Сарана Абидуева",
      "photoUrl": "https://lh3.googleusercontent.com/a-/AOh14GiHZo6HOBigQjgllr-5G8U3xNYjR8t1gvtxGRPytA=s64",
      "userId": "15332124214443434142"
     },
     "user_tz": -180
    },
    "id": "cDe42NzM3U0N"
   },
   "outputs": [],
   "source": [
    ""
   ]
  }
 ],
 "metadata": {
  "colab": {
   "name": "VGG-A.ipynb",
   "provenance": []
  },
  "kernelspec": {
   "display_name": "Python 3",
   "language": "python",
   "name": "python3"
  },
  "language_info": {
   "codemirror_mode": {
    "name": "ipython",
    "version": 3
   },
   "file_extension": ".py",
   "mimetype": "text/x-python",
   "name": "python",
   "nbconvert_exporter": "python",
   "pygments_lexer": "ipython3",
   "version": "3.8.3"
  }
 },
 "nbformat": 4,
 "nbformat_minor": 0
}
